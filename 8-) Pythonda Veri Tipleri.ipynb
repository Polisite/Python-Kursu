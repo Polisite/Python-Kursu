{
 "cells": [
  {
   "cell_type": "markdown",
   "id": "d95e81e4",
   "metadata": {},
   "source": [
    "# Veri tipi Dönüşümleri\n",
    "Pythonda ve diğer çoğu programlama dilinde veritiplerinin birbirine dönüştürülmesi oldukça önemlidir. Bazı zaman bir ondalıklı sayıyı tamsayıya dönüştürme, hatta ve hatta bir string'i tamsayıya dönüştürme işlemleri programlarımızı yazarken büyük önem taşır. Bu konuda bu tür dönüşümlerini öğrenmeye çalışacağız."
   ]
  },
  {
   "cell_type": "markdown",
   "id": "2c6d39fe",
   "metadata": {},
   "source": [
    "# Tamsayıyı Ondalıklı Sayıya Çevirme\n",
    "\n",
    "Bir tamsayı değeri(integer) ondalıklı sayıya(float) çevirmek için float() fonksiyonunu kullanabiliriz.Örneklere bakalım."
   ]
  },
  {
   "cell_type": "code",
   "execution_count": 3,
   "id": "45aa99a3",
   "metadata": {},
   "outputs": [
    {
     "data": {
      "text/plain": [
       "int"
      ]
     },
     "execution_count": 3,
     "metadata": {},
     "output_type": "execute_result"
    }
   ],
   "source": [
    "a = 45\n",
    "type(a)"
   ]
  },
  {
   "cell_type": "code",
   "execution_count": 6,
   "id": "f7b4dddc",
   "metadata": {},
   "outputs": [
    {
     "data": {
      "text/plain": [
       "float"
      ]
     },
     "execution_count": 6,
     "metadata": {},
     "output_type": "execute_result"
    }
   ],
   "source": [
    "a = 45\n",
    "float(a)\n",
    "type(float(a))\n",
    "#yani int olan bir sayıyı float a çevirdik"
   ]
  },
  {
   "cell_type": "code",
   "execution_count": 9,
   "id": "d7248850",
   "metadata": {},
   "outputs": [
    {
     "data": {
      "text/plain": [
       "str"
      ]
     },
     "execution_count": 9,
     "metadata": {},
     "output_type": "execute_result"
    }
   ],
   "source": [
    "a = 45\n",
    "str(a)\n",
    "type(str(a))\n",
    "#yani int olan bir sayıyı str ye çevirdik\n",
    "#dönüşümler böyle"
   ]
  },
  {
   "cell_type": "code",
   "execution_count": 11,
   "id": "f4b22e19",
   "metadata": {},
   "outputs": [
    {
     "data": {
      "text/plain": [
       "25.0"
      ]
     },
     "execution_count": 11,
     "metadata": {},
     "output_type": "execute_result"
    }
   ],
   "source": [
    "b = 25\n",
    "float(25)\n",
    "#tamsayıyı ondalıklıya çevirerek verdi"
   ]
  },
  {
   "cell_type": "markdown",
   "id": "9cea7975",
   "metadata": {},
   "source": [
    "# Ondalıklıyı Tam sayıya çevirme"
   ]
  },
  {
   "cell_type": "code",
   "execution_count": 15,
   "id": "e770ab56",
   "metadata": {},
   "outputs": [
    {
     "data": {
      "text/plain": [
       "2"
      ]
     },
     "execution_count": 15,
     "metadata": {},
     "output_type": "execute_result"
    }
   ],
   "source": [
    "c = 2.99\n",
    "int(c)\n",
    "#2.01 de olsa 2.99 da olsa hep ikiyi gösterir yuvarlama yapmaz"
   ]
  },
  {
   "cell_type": "markdown",
   "id": "e581e837",
   "metadata": {},
   "source": [
    "# Sayıları Stringlere Çevirme\n",
    "\n",
    "Bir sayıyı string'e çevirmek için str() fonksiyonunu kullanabiliriz.Sayıyı oluşturan tüm rakamlar veya noktalar birer karaktere dönüşecek."
   ]
  },
  {
   "cell_type": "code",
   "execution_count": 16,
   "id": "74a29a2b",
   "metadata": {},
   "outputs": [
    {
     "data": {
      "text/plain": [
       "'32324324'"
      ]
     },
     "execution_count": 16,
     "metadata": {},
     "output_type": "execute_result"
    }
   ],
   "source": [
    "a = 32324324\n",
    "b = str(a)\n",
    "b"
   ]
  },
  {
   "cell_type": "code",
   "execution_count": 17,
   "id": "069ddf6e",
   "metadata": {},
   "outputs": [
    {
     "data": {
      "text/plain": [
       "8"
      ]
     },
     "execution_count": 17,
     "metadata": {},
     "output_type": "execute_result"
    }
   ],
   "source": [
    "len(b)"
   ]
  },
  {
   "cell_type": "code",
   "execution_count": 23,
   "id": "96982073",
   "metadata": {},
   "outputs": [
    {
     "data": {
      "text/plain": [
       "'3.14343'"
      ]
     },
     "execution_count": 23,
     "metadata": {},
     "output_type": "execute_result"
    }
   ],
   "source": [
    "t = 3.14343\n",
    "y = str(t)\n",
    "y\n",
    "# t neye dönüştürülürse dönüştürülsün yinede float biçimindedir "
   ]
  },
  {
   "cell_type": "code",
   "execution_count": 24,
   "id": "9b93067a",
   "metadata": {},
   "outputs": [
    {
     "data": {
      "text/plain": [
       "7"
      ]
     },
     "execution_count": 24,
     "metadata": {},
     "output_type": "execute_result"
    }
   ],
   "source": [
    "len(y)"
   ]
  },
  {
   "cell_type": "markdown",
   "id": "dfc0d6b9",
   "metadata": {},
   "source": [
    "# Stringleri Tamsayıya Çevirme\n",
    "\n",
    "Bir string'i bir tamsayıya çevirmek istediğimiz zaman int() fonksiyonunu kullanabiliriz. Ancak biraz dikkatli olmamızda fayda var. Dönüştürme işlemini yaparken stringin herbir karakterinin bir rakam olduğundan emin olmalıyız. Örneklere bakalım."
   ]
  },
  {
   "cell_type": "code",
   "execution_count": 25,
   "id": "8f704803",
   "metadata": {},
   "outputs": [
    {
     "data": {
      "text/plain": [
       "32434324324234"
      ]
     },
     "execution_count": 25,
     "metadata": {},
     "output_type": "execute_result"
    }
   ],
   "source": [
    "# Doğru\n",
    "a = \"32434324324234\"\n",
    "b = int(a)\n",
    "b"
   ]
  },
  {
   "cell_type": "code",
   "execution_count": 26,
   "id": "369c037b",
   "metadata": {},
   "outputs": [
    {
     "ename": "ValueError",
     "evalue": "invalid literal for int() with base 10: 'dasdasd343435'",
     "output_type": "error",
     "traceback": [
      "\u001b[1;31m---------------------------------------------------------------------------\u001b[0m",
      "\u001b[1;31mValueError\u001b[0m                                Traceback (most recent call last)",
      "\u001b[1;32m<ipython-input-26-0571d0868757>\u001b[0m in \u001b[0;36m<module>\u001b[1;34m\u001b[0m\n\u001b[0;32m      1\u001b[0m \u001b[1;31m# Hatalı - Her bir karakterin 10'luk tabanda olması gerekli.\u001b[0m\u001b[1;33m\u001b[0m\u001b[1;33m\u001b[0m\u001b[1;33m\u001b[0m\u001b[0m\n\u001b[0;32m      2\u001b[0m \u001b[0ma\u001b[0m \u001b[1;33m=\u001b[0m \u001b[1;34m\"dasdasd343435\"\u001b[0m\u001b[1;33m\u001b[0m\u001b[1;33m\u001b[0m\u001b[0m\n\u001b[1;32m----> 3\u001b[1;33m \u001b[0mb\u001b[0m \u001b[1;33m=\u001b[0m \u001b[0mint\u001b[0m\u001b[1;33m(\u001b[0m\u001b[0ma\u001b[0m\u001b[1;33m)\u001b[0m\u001b[1;33m\u001b[0m\u001b[1;33m\u001b[0m\u001b[0m\n\u001b[0m\u001b[0;32m      4\u001b[0m \u001b[0mb\u001b[0m\u001b[1;33m\u001b[0m\u001b[1;33m\u001b[0m\u001b[0m\n",
      "\u001b[1;31mValueError\u001b[0m: invalid literal for int() with base 10: 'dasdasd343435'"
     ]
    }
   ],
   "source": [
    "# Hatalı - Her bir karakterin 10'luk tabanda olması gerekli.\n",
    "a = \"dasdasd343435\"\n",
    "b = int(a)\n",
    "b"
   ]
  },
  {
   "cell_type": "markdown",
   "id": "730a1478",
   "metadata": {},
   "source": [
    "# Stringleri Ondalıklı Sayıya Çevirme\n",
    "\n",
    "Bir string'i bir ondalıklı sayıya çevirmek istediğimiz zaman float() fonksiyonunu kullanabiliriz. Ancak biraz dikkatli olmamızda fayda var. Dönüştürme işlemini yaparken stringin ondalıklı sayı formatına uygun olduğundan emin olmalıyız. Örneklere bakalım."
   ]
  },
  {
   "cell_type": "code",
   "execution_count": 27,
   "id": "536cae22",
   "metadata": {},
   "outputs": [
    {
     "data": {
      "text/plain": [
       "3.1444545"
      ]
     },
     "execution_count": 27,
     "metadata": {},
     "output_type": "execute_result"
    }
   ],
   "source": [
    "# Doğru Kod\n",
    "a = \"3.1444545\"\n",
    "b = float(a)\n",
    "b"
   ]
  },
  {
   "cell_type": "code",
   "execution_count": 28,
   "id": "e0fd5883",
   "metadata": {},
   "outputs": [
    {
     "ename": "ValueError",
     "evalue": "could not convert string to float: '3.14.324324'",
     "output_type": "error",
     "traceback": [
      "\u001b[1;31m---------------------------------------------------------------------------\u001b[0m",
      "\u001b[1;31mValueError\u001b[0m                                Traceback (most recent call last)",
      "\u001b[1;32m<ipython-input-28-b5a4ec5bd952>\u001b[0m in \u001b[0;36m<module>\u001b[1;34m\u001b[0m\n\u001b[0;32m      1\u001b[0m \u001b[1;31m# Hatalı Kod\u001b[0m\u001b[1;33m\u001b[0m\u001b[1;33m\u001b[0m\u001b[1;33m\u001b[0m\u001b[0m\n\u001b[0;32m      2\u001b[0m \u001b[0ma\u001b[0m \u001b[1;33m=\u001b[0m \u001b[1;34m\"3.14.324324\"\u001b[0m\u001b[1;33m\u001b[0m\u001b[1;33m\u001b[0m\u001b[0m\n\u001b[1;32m----> 3\u001b[1;33m \u001b[0mb\u001b[0m \u001b[1;33m=\u001b[0m \u001b[0mfloat\u001b[0m\u001b[1;33m(\u001b[0m\u001b[0ma\u001b[0m\u001b[1;33m)\u001b[0m\u001b[1;33m\u001b[0m\u001b[1;33m\u001b[0m\u001b[0m\n\u001b[0m\u001b[0;32m      4\u001b[0m \u001b[0mb\u001b[0m\u001b[1;33m\u001b[0m\u001b[1;33m\u001b[0m\u001b[0m\n",
      "\u001b[1;31mValueError\u001b[0m: could not convert string to float: '3.14.324324'"
     ]
    }
   ],
   "source": [
    "# Hatalı Kod\n",
    "a = \"3.14.324324\"\n",
    "b = float(a)\n",
    "b"
   ]
  },
  {
   "cell_type": "markdown",
   "id": "e278d3e1",
   "metadata": {},
   "source": [
    "İşte bu kadar ! Daha sonra öğreneceğimiz veri tiplerini de bu yöntemlerle birbirine dönüştürebileceğiz."
   ]
  }
 ],
 "metadata": {
  "kernelspec": {
   "display_name": "Python 3",
   "language": "python",
   "name": "python3"
  },
  "language_info": {
   "codemirror_mode": {
    "name": "ipython",
    "version": 3
   },
   "file_extension": ".py",
   "mimetype": "text/x-python",
   "name": "python",
   "nbconvert_exporter": "python",
   "pygments_lexer": "ipython3",
   "version": "3.8.8"
  }
 },
 "nbformat": 4,
 "nbformat_minor": 5
}
